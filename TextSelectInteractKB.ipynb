{
 "cells": [
  {
   "cell_type": "markdown",
   "metadata": {},
   "source": [
    "# База знань про методи виготовлення різьби\n",
    "Цей інтерактивний документ Jupyter призначений для роботи з базою знань про методи виготовлення різьби. Користувач може переглядати факти бази знань у вигляді таблиці або графа, створювати запити до бази знань, додавати (або видаляти) факти вручну або шляхом застосування механізму логічного виведення.\n",
    "\n",
    "База знань складається з множини фактів і множини правил логічного виведення. Факти бази знань подані як триплети (суб'єкт, предикат, об'єкт) або (s, p, o). Триплети зберігаються у файлі формату CSV. Для зручного оброблення за допомогою пакету pandas ці триплети завантажуються в таблицю df (DataFrame). Ця таблиця df створюється в модулі mykb.\n",
    "\n",
    "Віджети IPyWidgets (текстові поля і кнопки) дозволяють інтерактивну роботу з БЗ - пошук триплетів за шаблоном, додавання нових триплетів та їх видалення.\n",
    "\n",
    "Для візуалізації графа бази знань використовуються пакети NetworkX (створює граф) та Matplotlib (візуалізує граф). NetworkX також можна використати для застосування різноманітних алгоритмів на графах.\n",
    "\n",
    "Правила і машина виведення описані в модулі example3. Правила логічного виведення (rule1, rule2) дозволяють виводити нові факти за допомогою машини логічного виведення (reasoner). Машина виведення виконує \"пряме виведення\" та використовує підхід \"а-ля RETE\" для пришвидшення алгоритму, тобто будує дерево триплетів для швидкого пошуку.\n",
    "\n",
    "Послідовність запуску через JupyterLite:\n",
    "\n",
    "1. Відкрийте в браузері https://jupyter.org/try-jupyter/lab/\n",
    "2. Перетягніть у File Browser (зліва) файли TextSelectInteractKB.ipynb, kb.csv, mykb.py, example3.py\n",
    "3. Запустіть TextSelectInteractKB.ipynb і виконайте усі комірки"
   ]
  },
  {
   "cell_type": "code",
   "execution_count": 5,
   "metadata": {},
   "outputs": [],
   "source": [
    "# імпорт пакету для створення віджетів\n",
    "import ipywidgets\n",
    "import pandas as pd\n",
    "# імпорт функції для візуалізації результатів\n",
    "from IPython.display import display, Javascript"
   ]
  },
  {
   "cell_type": "code",
   "execution_count": 6,
   "metadata": {},
   "outputs": [],
   "source": [
    "# з модуля mykb імпортуємо таблицю з фактами бази знань (s, p, o)\n",
    "df = pd.read_csv('kb.csv')"
   ]
  },
  {
   "cell_type": "code",
   "execution_count": 7,
   "metadata": {},
   "outputs": [
    {
     "name": "stderr",
     "output_type": "stream",
     "text": [
      "C:\\Users\\HP\\AppData\\Local\\Temp\\ipykernel_19316\\1497547611.py:3: UserWarning: Boolean Series key will be reindexed to match DataFrame index.\n",
      "  df[df[\"s\"].str.contains(\"різ\")][df[\"p\"].str.contains(\"перевага\")]\n"
     ]
    },
    {
     "data": {
      "text/html": [
       "<div>\n",
       "<style scoped>\n",
       "    .dataframe tbody tr th:only-of-type {\n",
       "        vertical-align: middle;\n",
       "    }\n",
       "\n",
       "    .dataframe tbody tr th {\n",
       "        vertical-align: top;\n",
       "    }\n",
       "\n",
       "    .dataframe thead th {\n",
       "        text-align: right;\n",
       "    }\n",
       "</style>\n",
       "<table border=\"1\" class=\"dataframe\">\n",
       "  <thead>\n",
       "    <tr style=\"text-align: right;\">\n",
       "      <th></th>\n",
       "      <th>s</th>\n",
       "      <th>p</th>\n",
       "      <th>o</th>\n",
       "    </tr>\n",
       "  </thead>\n",
       "  <tbody>\n",
       "  </tbody>\n",
       "</table>\n",
       "</div>"
      ],
      "text/plain": [
       "Empty DataFrame\n",
       "Columns: [s, p, o]\n",
       "Index: []"
      ]
     },
     "execution_count": 7,
     "metadata": {},
     "output_type": "execute_result"
    }
   ],
   "source": [
    "# приклад запиту до бази знань:\n",
    "# вивести таблицю усіх фактів (s, p, o), де s містить \"різ\" і p містить \"перевага\"\n",
    "df[df[\"s\"].str.contains(\"різ\")][df[\"p\"].str.contains(\"перевага\")]"
   ]
  },
  {
   "cell_type": "code",
   "execution_count": 8,
   "metadata": {},
   "outputs": [],
   "source": [
    "fdf=None # pandas dataframe (таблиця)\n",
    "import time\n",
    "# функція виконується під час введення тексту в поля s, p, o\n",
    "def f1(s, p, o):\n",
    "    global fdf\n",
    "    # таблиця fdf містить тільки ті тріплети, які відповідають введениму в поля s, p, o тексту\n",
    "    fdf=df.loc[df[\"s\"].str.contains(s)].loc[df[\"p\"].str.contains(p)].loc[df[\"o\"].str.contains(o)]\n",
    "    display(fdf)\n",
    "    time.sleep(1)"
   ]
  },
  {
   "cell_type": "code",
   "execution_count": 9,
   "metadata": {},
   "outputs": [
    {
     "data": {
      "application/vnd.jupyter.widget-view+json": {
       "model_id": "4e58d9b805784d9daa3f557faaf9b6cc",
       "version_major": 2,
       "version_minor": 0
      },
      "text/plain": [
       "HBox(children=(Button(description='Add to KB', style=ButtonStyle()), Button(description='Remove from KB', styl…"
      ]
     },
     "metadata": {},
     "output_type": "display_data"
    },
    {
     "data": {
      "application/vnd.jupyter.widget-view+json": {
       "model_id": "712a763b04f241069705fd339c5a4d58",
       "version_major": 2,
       "version_minor": 0
      },
      "text/plain": [
       "Output()"
      ]
     },
     "metadata": {},
     "output_type": "display_data"
    }
   ],
   "source": [
    "# функція виконується під час натиску на кнопки\n",
    "def on_button_clicked(b):\n",
    "    global df\n",
    "    ndf = pandas.DataFrame([[s.value, p.value, o.value]], columns=['s', 'p', 'o']) # введений тріплет\n",
    "    # якщо натиснуто \"Add to KB\"\n",
    "    if b.description==\"Add to KB\":\n",
    "        df=pandas.concat([df, ndf], ignore_index=True)\n",
    "    # якщо натиснуто \"Remove from KB\"\n",
    "    if b.description==\"Remove from KB\":\n",
    "        df=pandas.concat([df, ndf], ignore_index=True).drop_duplicates(keep=False, ignore_index=True)\n",
    "    \n",
    "    # вивести назву кнопки і тріплет\n",
    "    #display(Javascript(f\"alert('{b.description}: ({s.value}, {p.value}, {o.value})')\"))\n",
    "    with output:\n",
    "        print(b.description, s.value, p.value, o.value)\n",
    "        \n",
    "# створити кнопки і пов'язати їх з on_button_clicked\n",
    "button1=ipywidgets.Button(description=\"Add to KB\")\n",
    "button1.on_click(on_button_clicked)\n",
    "button2=ipywidgets.Button(description=\"Remove from KB\")\n",
    "button2.on_click(on_button_clicked)\n",
    "output = ipywidgets.Output()\n",
    "# кнопки і результати виведення\n",
    "display(ipywidgets.HBox([button1, button2]), output);"
   ]
  },
  {
   "cell_type": "code",
   "execution_count": 10,
   "metadata": {
    "scrolled": true
   },
   "outputs": [
    {
     "data": {
      "application/vnd.jupyter.widget-view+json": {
       "model_id": "f9d7ed516a3c40ac8754df5e8695442e",
       "version_major": 2,
       "version_minor": 0
      },
      "text/plain": [
       "interactive(children=(Text(value='', description='s'), Text(value='', description='p'), Text(value='', descrip…"
      ]
     },
     "metadata": {},
     "output_type": "display_data"
    }
   ],
   "source": [
    "# створити три текстові поля s, p, o\n",
    "s=ipywidgets.Text(); p=ipywidgets.Text(); o=ipywidgets.Text()\n",
    "# повязати їх з f1\n",
    "ipywidgets.interact(f1, s=s, p=p, o=o);"
   ]
  },
  {
   "cell_type": "code",
   "execution_count": 11,
   "metadata": {},
   "outputs": [],
   "source": [
    "#df = df.drop(index=[4]) # видалити за індексом"
   ]
  },
  {
   "cell_type": "code",
   "execution_count": 12,
   "metadata": {},
   "outputs": [],
   "source": [
    "# імпорт пакетів networkx і matplotlib\n",
    "import networkx\n",
    "import matplotlib.pyplot as plt"
   ]
  },
  {
   "cell_type": "code",
   "execution_count": 13,
   "metadata": {},
   "outputs": [],
   "source": [
    "# створити орієнтований граф, у якого вершинами є s та o, а дугами - p\n",
    "G=networkx.DiGraph()\n",
    "for r in fdf.itertuples(): # для кожного рядка таблиці\n",
    "    G.add_edges_from([(r.s, r.o)], label=r.p) # створити вершини і дугу"
   ]
  },
  {
   "cell_type": "code",
   "execution_count": 14,
   "metadata": {},
   "outputs": [
    {
     "data": {
      "image/png": "[encoded data removed]",
      "text/plain": [
       "<Figure size 640x480 with 1 Axes>"
      ]
     },
     "metadata": {},
     "output_type": "display_data"
    }
   ],
   "source": [
    "# списки дуг \"перевага\" та \"недолік\"\n",
    "edges_p=[(u,v) for u,v,e in G.edges(data=True) if e['label']==\"перевага\"]\n",
    "edges_n=[(u,v) for u,v,e in G.edges(data=True) if e['label']==\"недолік\"]\n",
    "pos = networkx.spring_layout(G) # вибрати алгоритм візуалізації графа\n",
    "# нарисувати вузли, мітки і дуги\n",
    "networkx.draw_networkx_nodes(G, pos, node_color='yellow')\n",
    "networkx.draw_networkx_labels(G, pos, font_size=10)\n",
    "networkx.draw_networkx_edges(G, pos, edgelist=edges_p, connectionstyle='arc3, rad=0.2')\n",
    "networkx.draw_networkx_edges(G, pos, edgelist=edges_n, style='dashed', connectionstyle='arc3, rad=0.2')\n",
    "# зберегти граф у форматі SVG\n",
    "plt.savefig(\"graph.svg\", format=\"svg\")"
   ]
  },
  {
   "cell_type": "code",
   "execution_count": 15,
   "metadata": {},
   "outputs": [],
   "source": [
    "# імпорт правил і машини логічного виведення з модуля example3\n",
    "from example3 import *"
   ]
  },
  {
   "cell_type": "code",
   "execution_count": 16,
   "metadata": {},
   "outputs": [
    {
     "name": "stdout",
     "output_type": "stream",
     "text": [
      "{('Weighted Linear Regression', 'недолік', 'Assumes linearity'), ('Assumes linearity', 'недолік', 'LAD Linear Regression'), ('Multiple Linear Regression', 'недолік', 'Requires large sample size'), ('Multiple Linear Regression', 'недолік', 'Sensitive to multicollinearity'), ('LAD Linear Regression', 'недолік', 'Complex interpretation'), ('Requires large sample size', 'недолік', 'Weighted Linear Regression'), ('Weighted Linear Regression', 'недолік', 'Requires large sample size'), ('Complex interpretation', 'недолік', 'LAD Linear Regression'), ('Multiple Linear Regression', 'перевага', 'Robust to outliers'), ('Multiple Linear Regression', 'перевага', 'High accuracy in linear relationships'), ('Multiple Linear Regression', 'перевага', 'Suitable for small datasets'), ('Weighted Linear Regression', 'перевага', 'Handles multicollinearity well'), ('Requires large sample size', 'недолік', 'Multiple Linear Regression'), ('Sensitive to multicollinearity', 'недолік', 'Multiple Linear Regression'), ('Assumes linearity', 'недолік', 'Weighted Linear Regression'), ('Weighted Linear Regression', 'перевага', 'Robust to outliers'), ('LAD Linear Regression', 'недолік', 'Assumes linearity'), ('Weighted Linear Regression', 'перевага', 'Suitable for small datasets'), ('LAD Linear Regression', 'перевага', 'Handles multicollinearity well'), ('LAD Linear Regression', 'перевага', 'Interpretable coefficients'), ('LAD Linear Regression', 'перевага', 'Robust to outliers')}\n",
      "{('Requires large sample size', 'недолік', 'Multiple Linear Regression'), ('Sensitive to multicollinearity', 'недолік', 'Multiple Linear Regression'), ('Assumes linearity', 'недолік', 'Weighted Linear Regression'), ('Assumes linearity', 'недолік', 'LAD Linear Regression'), ('Requires large sample size', 'недолік', 'Weighted Linear Regression'), ('Complex interpretation', 'недолік', 'LAD Linear Regression')}\n"
     ]
    }
   ],
   "source": [
    "# наповнити множину F усіма фактами\n",
    "F=set()\n",
    "for row in df.itertuples():\n",
    "    F.add((row.s, row.p, row.o))\n",
    "# вивести нові факти за правилами rule1, rule2\n",
    "A=reasoner(F, [rule1, rule2], [\"перевага\"], [\"недолік\"])\n",
    "print(A) # усі факти\n",
    "print(A-F) # нові факти"
   ]
  },
  {
   "cell_type": "code",
   "execution_count": 17,
   "metadata": {},
   "outputs": [
    {
     "data": {
      "text/html": [
       "<div>\n",
       "<style scoped>\n",
       "    .dataframe tbody tr th:only-of-type {\n",
       "        vertical-align: middle;\n",
       "    }\n",
       "\n",
       "    .dataframe tbody tr th {\n",
       "        vertical-align: top;\n",
       "    }\n",
       "\n",
       "    .dataframe thead th {\n",
       "        text-align: right;\n",
       "    }\n",
       "</style>\n",
       "<table border=\"1\" class=\"dataframe\">\n",
       "  <thead>\n",
       "    <tr style=\"text-align: right;\">\n",
       "      <th></th>\n",
       "      <th>s</th>\n",
       "      <th>p</th>\n",
       "      <th>o</th>\n",
       "    </tr>\n",
       "  </thead>\n",
       "  <tbody>\n",
       "    <tr>\n",
       "      <th>0</th>\n",
       "      <td>LAD Linear Regression</td>\n",
       "      <td>перевага</td>\n",
       "      <td>Handles multicollinearity well</td>\n",
       "    </tr>\n",
       "    <tr>\n",
       "      <th>1</th>\n",
       "      <td>Weighted Linear Regression</td>\n",
       "      <td>перевага</td>\n",
       "      <td>Handles multicollinearity well</td>\n",
       "    </tr>\n",
       "    <tr>\n",
       "      <th>2</th>\n",
       "      <td>LAD Linear Regression</td>\n",
       "      <td>перевага</td>\n",
       "      <td>Interpretable coefficients</td>\n",
       "    </tr>\n",
       "    <tr>\n",
       "      <th>3</th>\n",
       "      <td>Multiple Linear Regression</td>\n",
       "      <td>перевага</td>\n",
       "      <td>High accuracy in linear relationships</td>\n",
       "    </tr>\n",
       "    <tr>\n",
       "      <th>4</th>\n",
       "      <td>Multiple Linear Regression</td>\n",
       "      <td>недолік</td>\n",
       "      <td>Requires large sample size</td>\n",
       "    </tr>\n",
       "    <tr>\n",
       "      <th>5</th>\n",
       "      <td>Multiple Linear Regression</td>\n",
       "      <td>перевага</td>\n",
       "      <td>Robust to outliers</td>\n",
       "    </tr>\n",
       "    <tr>\n",
       "      <th>6</th>\n",
       "      <td>Weighted Linear Regression</td>\n",
       "      <td>недолік</td>\n",
       "      <td>Assumes linearity</td>\n",
       "    </tr>\n",
       "    <tr>\n",
       "      <th>7</th>\n",
       "      <td>LAD Linear Regression</td>\n",
       "      <td>перевага</td>\n",
       "      <td>Robust to outliers</td>\n",
       "    </tr>\n",
       "    <tr>\n",
       "      <th>8</th>\n",
       "      <td>Multiple Linear Regression</td>\n",
       "      <td>перевага</td>\n",
       "      <td>Suitable for small datasets</td>\n",
       "    </tr>\n",
       "    <tr>\n",
       "      <th>9</th>\n",
       "      <td>Weighted Linear Regression</td>\n",
       "      <td>перевага</td>\n",
       "      <td>Suitable for small datasets</td>\n",
       "    </tr>\n",
       "    <tr>\n",
       "      <th>10</th>\n",
       "      <td>Weighted Linear Regression</td>\n",
       "      <td>перевага</td>\n",
       "      <td>Robust to outliers</td>\n",
       "    </tr>\n",
       "    <tr>\n",
       "      <th>11</th>\n",
       "      <td>Multiple Linear Regression</td>\n",
       "      <td>недолік</td>\n",
       "      <td>Sensitive to multicollinearity</td>\n",
       "    </tr>\n",
       "    <tr>\n",
       "      <th>12</th>\n",
       "      <td>LAD Linear Regression</td>\n",
       "      <td>недолік</td>\n",
       "      <td>Assumes linearity</td>\n",
       "    </tr>\n",
       "    <tr>\n",
       "      <th>13</th>\n",
       "      <td>Weighted Linear Regression</td>\n",
       "      <td>недолік</td>\n",
       "      <td>Requires large sample size</td>\n",
       "    </tr>\n",
       "    <tr>\n",
       "      <th>14</th>\n",
       "      <td>LAD Linear Regression</td>\n",
       "      <td>недолік</td>\n",
       "      <td>Complex interpretation</td>\n",
       "    </tr>\n",
       "  </tbody>\n",
       "</table>\n",
       "</div>"
      ],
      "text/plain": [
       "                             s         p  \\\n",
       "0        LAD Linear Regression  перевага   \n",
       "1   Weighted Linear Regression  перевага   \n",
       "2        LAD Linear Regression  перевага   \n",
       "3   Multiple Linear Regression  перевага   \n",
       "4   Multiple Linear Regression   недолік   \n",
       "5   Multiple Linear Regression  перевага   \n",
       "6   Weighted Linear Regression   недолік   \n",
       "7        LAD Linear Regression  перевага   \n",
       "8   Multiple Linear Regression  перевага   \n",
       "9   Weighted Linear Regression  перевага   \n",
       "10  Weighted Linear Regression  перевага   \n",
       "11  Multiple Linear Regression   недолік   \n",
       "12       LAD Linear Regression   недолік   \n",
       "13  Weighted Linear Regression   недолік   \n",
       "14       LAD Linear Regression   недолік   \n",
       "\n",
       "                                        o  \n",
       "0          Handles multicollinearity well  \n",
       "1          Handles multicollinearity well  \n",
       "2              Interpretable coefficients  \n",
       "3   High accuracy in linear relationships  \n",
       "4              Requires large sample size  \n",
       "5                      Robust to outliers  \n",
       "6                       Assumes linearity  \n",
       "7                      Robust to outliers  \n",
       "8             Suitable for small datasets  \n",
       "9             Suitable for small datasets  \n",
       "10                     Robust to outliers  \n",
       "11         Sensitive to multicollinearity  \n",
       "12                      Assumes linearity  \n",
       "13             Requires large sample size  \n",
       "14                 Complex interpretation  "
      ]
     },
     "execution_count": 17,
     "metadata": {},
     "output_type": "execute_result"
    }
   ],
   "source": [
    "df"
   ]
  },
  {
   "cell_type": "code",
   "execution_count": 14,
   "metadata": {},
   "outputs": [],
   "source": [
    "df.to_csv('kb.csv', index=False) # зберегти у файл"
   ]
  }
 ],
 "metadata": {
  "kernelspec": {
   "display_name": "Python 3 (ipykernel)",
   "language": "python",
   "name": "python3"
  },
  "language_info": {
   "codemirror_mode": {
    "name": "ipython",
    "version": 3
   },
   "file_extension": ".py",
   "mimetype": "text/x-python",
   "name": "python",
   "nbconvert_exporter": "python",
   "pygments_lexer": "ipython3",
   "version": "3.11.3"
  }
 },
 "nbformat": 4,
 "nbformat_minor": 4
}
